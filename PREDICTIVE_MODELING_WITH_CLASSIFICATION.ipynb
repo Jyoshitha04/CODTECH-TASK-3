{
  "nbformat": 4,
  "nbformat_minor": 0,
  "metadata": {
    "colab": {
      "provenance": [],
      "authorship_tag": "ABX9TyNvlAT3g+UdDMH8Fc7MVodB",
      "include_colab_link": true
    },
    "kernelspec": {
      "name": "python3",
      "display_name": "Python 3"
    },
    "language_info": {
      "name": "python"
    }
  },
  "cells": [
    {
      "cell_type": "markdown",
      "metadata": {
        "id": "view-in-github",
        "colab_type": "text"
      },
      "source": [
        "<a href=\"https://colab.research.google.com/github/Jyoshitha04/CODTECH-TASK-3/blob/main/PREDICTIVE_MODELING_WITH_CLASSIFICATION.ipynb\" target=\"_parent\"><img src=\"https://colab.research.google.com/assets/colab-badge.svg\" alt=\"Open In Colab\"/></a>"
      ]
    },
    {
      "cell_type": "code",
      "execution_count": 99,
      "metadata": {
        "id": "g8bz5_iVCN4V"
      },
      "outputs": [],
      "source": [
        "import pandas as pd\n",
        "from sklearn.model_selection import train_test_split\n",
        "from sklearn.preprocessing import LabelEncoder\n",
        "from sklearn.linear_model import LogisticRegression\n",
        "from sklearn.ensemble import RandomForestClassifier\n",
        "from sklearn.metrics import accuracy_score, precision_score, recall_score, f1_score\n",
        "from sklearn.metrics import accuracy_score, precision_score, recall_score, f1_score, classification_report, confusion_matrix"
      ]
    },
    {
      "cell_type": "code",
      "source": [
        "# Load the dataset\n",
        "df = pd.read_csv('/content/laptopPrice.csv')\n",
        "\n",
        "# Display the first few rows\n",
        "print(df.head())"
      ],
      "metadata": {
        "colab": {
          "base_uri": "https://localhost:8080/"
        },
        "id": "9r4sJ9m9CbRM",
        "outputId": "911bd9b6-d9d8-4a46-c09a-56cd72bfb8d5"
      },
      "execution_count": 81,
      "outputs": [
        {
          "output_type": "stream",
          "name": "stdout",
          "text": [
            "    brand processor_brand processor_name processor_gnrtn ram_gb ram_type  \\\n",
            "0    ASUS           Intel        Core i3            10th   4 GB     DDR4   \n",
            "1  Lenovo           Intel        Core i3            10th   4 GB     DDR4   \n",
            "2  Lenovo           Intel        Core i3            10th   4 GB     DDR4   \n",
            "3    ASUS           Intel        Core i5            10th   8 GB     DDR4   \n",
            "4    ASUS           Intel   Celeron Dual   Not Available   4 GB     DDR4   \n",
            "\n",
            "      ssd      hdd       os  os_bit graphic_card_gb  weight     warranty  \\\n",
            "0    0 GB  1024 GB  Windows  64-bit            0 GB  Casual  No warranty   \n",
            "1    0 GB  1024 GB  Windows  64-bit            0 GB  Casual  No warranty   \n",
            "2    0 GB  1024 GB  Windows  64-bit            0 GB  Casual  No warranty   \n",
            "3  512 GB     0 GB  Windows  32-bit            2 GB  Casual  No warranty   \n",
            "4    0 GB   512 GB  Windows  64-bit            0 GB  Casual  No warranty   \n",
            "\n",
            "  Touchscreen msoffice  Price   rating  Number of Ratings  Number of Reviews  \n",
            "0          No       No  34649  2 stars                  3                  0  \n",
            "1          No       No  38999  3 stars                 65                  5  \n",
            "2          No       No  39999  3 stars                  8                  1  \n",
            "3          No       No  69990  3 stars                  0                  0  \n",
            "4          No       No  26990  3 stars                  0                  0  \n"
          ]
        }
      ]
    },
    {
      "cell_type": "markdown",
      "source": [
        "# Data Cleaning and Preprocessing\n",
        "We will:\n",
        "\n",
        "Convert columns like ram_gb, ssd, and hdd to numeric values.\n",
        "\n",
        "Handle missing values.\n",
        "\n",
        "Encode categorical columns for machine learning models.\n",
        "\n",
        "Generate new features where appropriate (e.g., has_ssd)."
      ],
      "metadata": {
        "id": "xdNxiI4PDOD4"
      }
    },
    {
      "cell_type": "code",
      "source": [
        "# Convert 'ram_gb', 'ssd', and 'hdd' columns to strings first, then remove 'GB' and convert to numeric\n",
        "df['ram_gb'] = pd.to_numeric(df['ram_gb'].astype(str).str.replace(\" GB\", \"\"), errors='coerce')\n",
        "df['ssd'] = pd.to_numeric(df['ssd'].astype(str).str.replace(\" GB\", \"\"), errors='coerce')\n",
        "df['hdd'] = pd.to_numeric(df['hdd'].astype(str).str.replace(\" GB\", \"\"), errors='coerce')\n",
        "\n",
        "# Adding a binary column for SSD presence\n",
        "df['has_ssd'] = (df['ssd'] > 0).astype(int)\n",
        "\n",
        "# Verify the data types and preview the transformed columns\n",
        "print(df[['ram_gb', 'ssd', 'hdd', 'has_ssd']].dtypes)\n",
        "print(df[['ram_gb', 'ssd', 'hdd', 'has_ssd']].head())\n"
      ],
      "metadata": {
        "colab": {
          "base_uri": "https://localhost:8080/"
        },
        "id": "OcEvze47Cj6u",
        "outputId": "7c788296-e881-400d-a14b-6ff65578d2e5"
      },
      "execution_count": 82,
      "outputs": [
        {
          "output_type": "stream",
          "name": "stdout",
          "text": [
            "ram_gb     int64\n",
            "ssd        int64\n",
            "hdd        int64\n",
            "has_ssd    int64\n",
            "dtype: object\n",
            "   ram_gb  ssd   hdd  has_ssd\n",
            "0       4    0  1024        0\n",
            "1       4    0  1024        0\n",
            "2       4    0  1024        0\n",
            "3       8  512     0        1\n",
            "4       4    0   512        0\n"
          ]
        }
      ]
    },
    {
      "cell_type": "code",
      "source": [
        "# Handling categorical columns with LabelEncoder\n",
        "categorical_cols = ['brand', 'processor_brand', 'processor_name', 'processor_gnrtn', 'ram_type', 'os', 'os_bit', 'Touchscreen', 'msoffice', 'rating']\n",
        "le = LabelEncoder()\n",
        "for col in categorical_cols:\n",
        "    df[col] = le.fit_transform(df[col])"
      ],
      "metadata": {
        "id": "B-n921XFDlUd"
      },
      "execution_count": 83,
      "outputs": []
    },
    {
      "cell_type": "code",
      "source": [
        "# Dropping columns that won't be used as features\n",
        "df = df.drop(['weight', 'warranty'], axis=1)"
      ],
      "metadata": {
        "id": "2_BvKnn8DldL"
      },
      "execution_count": 84,
      "outputs": []
    },
    {
      "cell_type": "code",
      "source": [
        "# Checking for missing values\n",
        "df.fillna(0, inplace=True)"
      ],
      "metadata": {
        "id": "cswFIRCTDlre"
      },
      "execution_count": 85,
      "outputs": []
    },
    {
      "cell_type": "code",
      "source": [
        "# First, ensure 'rating' is a string type\n",
        "df['rating'] = df['rating'].astype(str)\n",
        "\n",
        "# Now convert categorical ratings to binary: 1 (high) if 'rating' is \"3 stars\" or more, else 0 (low)\n",
        "df['rating_binary'] = (df['rating'].str.extract('(\\d)').astype(int) >= 3).astype(int)\n",
        "\n",
        "# Check the result\n",
        "print(df[['rating', 'rating_binary']].head())"
      ],
      "metadata": {
        "colab": {
          "base_uri": "https://localhost:8080/"
        },
        "id": "Wc_5Ko2cG4-N",
        "outputId": "acf26085-bf99-4e62-f6a9-03431199f4cd"
      },
      "execution_count": 86,
      "outputs": [
        {
          "output_type": "stream",
          "name": "stdout",
          "text": [
            "  rating  rating_binary\n",
            "0      1              0\n",
            "1      2              0\n",
            "2      2              0\n",
            "3      2              0\n",
            "4      2              0\n"
          ]
        }
      ]
    },
    {
      "cell_type": "markdown",
      "source": [
        "# Splitting the data"
      ],
      "metadata": {
        "id": "tX-5BAQrNcQh"
      }
    },
    {
      "cell_type": "code",
      "source": [
        "# Select features for the model\n",
        "features = ['ram_gb', 'ssd', 'hdd', 'has_ssd', 'os_bit']\n",
        "X = df[features]\n",
        "y = df['rating_binary']"
      ],
      "metadata": {
        "id": "Psc-Uy1-Dlv4"
      },
      "execution_count": 87,
      "outputs": []
    },
    {
      "cell_type": "code",
      "source": [
        "# Recheck and clean columns with string values\n",
        "X = X.applymap(lambda x: str(x).replace(\" GB\", \"\") if isinstance(x, str) else x)\n",
        "X = X.apply(pd.to_numeric, errors='coerce')  # Convert all to numeric\n",
        "\n",
        "# Handle missing values if any\n",
        "X.fillna(0, inplace=True)\n",
        "\n",
        "# Re-splitting the corrected data\n",
        "X_train, X_test, y_train, y_test = train_test_split(X, y, test_size=0.2, random_state=42)"
      ],
      "metadata": {
        "colab": {
          "base_uri": "https://localhost:8080/"
        },
        "id": "WlzpazRnFhax",
        "outputId": "2881afe6-62e4-46a8-a653-11fc111280c8"
      },
      "execution_count": 88,
      "outputs": [
        {
          "output_type": "stream",
          "name": "stderr",
          "text": [
            "<ipython-input-88-69e95bd1b35b>:2: FutureWarning: DataFrame.applymap has been deprecated. Use DataFrame.map instead.\n",
            "  X = X.applymap(lambda x: str(x).replace(\" GB\", \"\") if isinstance(x, str) else x)\n"
          ]
        }
      ]
    },
    {
      "cell_type": "code",
      "source": [
        "print(\"Preprocessing complete.\")\n",
        "print(f\"Training set shape: {X_train.shape}\")\n",
        "print(f\"Testing set shape: {X_test.shape}\")"
      ],
      "metadata": {
        "colab": {
          "base_uri": "https://localhost:8080/"
        },
        "id": "bjFwuHmzDl0r",
        "outputId": "64fb1f2f-6392-41cc-d595-a2f0bd2db875"
      },
      "execution_count": 89,
      "outputs": [
        {
          "output_type": "stream",
          "name": "stdout",
          "text": [
            "Preprocessing complete.\n",
            "Training set shape: (658, 5)\n",
            "Testing set shape: (165, 5)\n"
          ]
        }
      ]
    },
    {
      "cell_type": "markdown",
      "source": [
        "**1 means the rating is 3 stars or higher (i.e., high rating).**\n",
        "\n",
        "**0 means the rating is less than 3 stars (i.e., low rating).**"
      ],
      "metadata": {
        "id": "momQMrxcHSx2"
      }
    },
    {
      "cell_type": "markdown",
      "source": [
        "# Training the Models ( logistic and random forest )"
      ],
      "metadata": {
        "id": "_VaLlOEKM4p2"
      }
    },
    {
      "cell_type": "code",
      "source": [
        "# Dictionary to store results\n",
        "model_results = {}\n",
        "\n",
        "# Helper function to evaluate a model\n",
        "def evaluate_model(model, X_test, y_test):\n",
        "    y_pred = model.predict(X_test)\n",
        "    return {\n",
        "        'Accuracy': accuracy_score(y_test, y_pred),\n",
        "        'Precision': precision_score(y_test, y_pred, average='weighted'),\n",
        "        'Recall': recall_score(y_test, y_pred, average='weighted'),\n",
        "        'F1 Score': f1_score(y_test, y_pred, average='weighted')\n",
        "    }\n",
        "\n",
        "# Logistic Regression\n",
        "log_reg = LogisticRegression(max_iter=1000)\n",
        "log_reg.fit(X_train, y_train)\n",
        "model_results['Logistic Regression'] = evaluate_model(log_reg, X_test, y_test)\n",
        "\n",
        "# Random Forest\n",
        "rf = RandomForestClassifier()\n",
        "rf.fit(X_train, y_train)\n",
        "model_results['Random Forest'] = evaluate_model(rf, X_test, y_test)\n",
        "\n",
        "# Print results for the two models\n",
        "for model_name, metrics in model_results.items():\n",
        "    print(f\"\\n{model_name} Results:\")\n",
        "    for metric, value in metrics.items():\n",
        "        print(f\"{metric}: {value:.4f}\")\n"
      ],
      "metadata": {
        "colab": {
          "base_uri": "https://localhost:8080/"
        },
        "id": "lutgQp3aFH_U",
        "outputId": "5f5cd20f-4c10-4b94-d4aa-af1d10111ca8"
      },
      "execution_count": 95,
      "outputs": [
        {
          "output_type": "stream",
          "name": "stdout",
          "text": [
            "\n",
            "Logistic Regression Results:\n",
            "Accuracy: 0.5879\n",
            "Precision: 0.5700\n",
            "Recall: 0.5879\n",
            "F1 Score: 0.5585\n",
            "\n",
            "Random Forest Results:\n",
            "Accuracy: 0.6606\n",
            "Precision: 0.6564\n",
            "Recall: 0.6606\n",
            "F1 Score: 0.6459\n"
          ]
        }
      ]
    },
    {
      "cell_type": "markdown",
      "source": [
        "# Testing the Model using new data"
      ],
      "metadata": {
        "id": "zMwhSMd2NIHY"
      }
    },
    {
      "cell_type": "code",
      "source": [
        "# Sample new data (ensure it has the same features as the training data)\n",
        "new_data = pd.DataFrame({\n",
        "    'ram_gb': [8, 16, 4, 8, 12],  # Example data for new entries\n",
        "    'ssd': [512, 1024, 0, 512, 256],\n",
        "    'hdd': [0, 500, 1024, 256, 512],\n",
        "    'has_ssd': [1, 1, 0, 1, 1],\n",
        "    'os_bit': [1, 1, 1, 1, 0],  # Example: 1 for 64-bit, 0 for 32-bit\n",
        "})\n",
        "\n",
        "# Helper function to predict for new data using a given model\n",
        "def predict_new_data(model, new_data):\n",
        "    predictions = model.predict(new_data)\n",
        "    return predictions\n",
        "\n",
        "# Predict using Logistic Regression and Random Forest\n",
        "log_reg_predictions = predict_new_data(log_reg, new_data)\n",
        "rf_predictions = predict_new_data(rf, new_data)\n",
        "\n",
        "# Print the predictions for the new data\n",
        "print(\"Predictions for the new data:\")\n",
        "print(\"\\nLogistic Regression Predictions:\", log_reg_predictions)\n",
        "print(\"\\nRandom Forest Predictions:\", rf_predictions)\n"
      ],
      "metadata": {
        "colab": {
          "base_uri": "https://localhost:8080/"
        },
        "id": "9MRb8sr7LZP1",
        "outputId": "7d366c0b-1083-4224-b38c-1826d9bd2b84"
      },
      "execution_count": 96,
      "outputs": [
        {
          "output_type": "stream",
          "name": "stdout",
          "text": [
            "Predictions for the new data:\n",
            "\n",
            "Logistic Regression Predictions: [1 1 0 1 1]\n",
            "\n",
            "Random Forest Predictions: [1 0 0 1 0]\n"
          ]
        }
      ]
    },
    {
      "cell_type": "markdown",
      "source": [
        "# Comparing the models by visuals using metrics"
      ],
      "metadata": {
        "id": "0xIAdkZYNOPK"
      }
    },
    {
      "cell_type": "code",
      "source": [
        "import matplotlib.pyplot as plt\n",
        "import numpy as np\n",
        "\n",
        "# Evaluation metrics for each model\n",
        "models = ['Logistic Regression', 'Random Forest']\n",
        "accuracy = [0.5879, 0.6606]\n",
        "precision = [0.5700, 0.6564]\n",
        "recall = [0.5879, 0.6606]\n",
        "f1_score = [0.5585, 0.6459]\n",
        "\n",
        "# Plotting the metrics\n",
        "x = np.arange(len(models))  # the label locations\n",
        "width = 0.2  # the width of the bars\n",
        "\n",
        "# Reduced size of the plot (smaller figure)\n",
        "fig, ax = plt.subplots(figsize=(8, 5))\n",
        "\n",
        "# Create bars for each metric\n",
        "rects1 = ax.bar(x - 1.5*width, accuracy, width, label='Accuracy')\n",
        "rects2 = ax.bar(x - 0.5*width, precision, width, label='Precision')\n",
        "rects3 = ax.bar(x + 0.5*width, recall, width, label='Recall')\n",
        "rects4 = ax.bar(x + 1.5*width, f1_score, width, label='F1 Score')\n",
        "\n",
        "# Add some text for labels, title, and custom x-axis tick labels\n",
        "ax.set_xlabel('Models')\n",
        "ax.set_ylabel('Scores')\n",
        "ax.set_title('Model Performance Comparison')\n",
        "ax.set_xticks(x)\n",
        "ax.set_xticklabels(models)\n",
        "ax.legend()\n",
        "\n",
        "# Adding value labels on top of the bars\n",
        "def add_value_labels(rects):\n",
        "    for rect in rects:\n",
        "        height = rect.get_height()\n",
        "        ax.annotate(f'{height:.4f}',\n",
        "                    xy=(rect.get_x() + rect.get_width() / 2, height),\n",
        "                    xytext=(0, 3),  # 3 points vertical offset\n",
        "                    textcoords=\"offset points\",\n",
        "                    ha='center', va='bottom')\n",
        "\n",
        "add_value_labels(rects1)\n",
        "add_value_labels(rects2)\n",
        "add_value_labels(rects3)\n",
        "add_value_labels(rects4)\n",
        "\n",
        "fig.tight_layout()\n",
        "\n",
        "# Show the plot\n",
        "plt.show()\n"
      ],
      "metadata": {
        "colab": {
          "base_uri": "https://localhost:8080/",
          "height": 507
        },
        "id": "MDftDtCWKOtT",
        "outputId": "b5336962-cf25-4ccd-fb19-84a0b4fa2e86"
      },
      "execution_count": 100,
      "outputs": [
        {
          "output_type": "display_data",
          "data": {
            "text/plain": [
              "<Figure size 800x500 with 1 Axes>"
            ],
            "image/png": "[encoded data removed]"
          },
          "metadata": {}
        }
      ]
    },
    {
      "cell_type": "markdown",
      "source": [
        "# **CONCLUSION**\n",
        "*  **Best performing model: Random Forest** show the best performance, with identical results in terms of accuracy, precision, recall, and F1 score.\n",
        "\n",
        "* **Logistic Regression is the least performing model** in terms of the evaluation metrics."
      ],
      "metadata": {
        "id": "m9LmCQz5Jxle"
      }
    },
    {
      "cell_type": "code",
      "source": [],
      "metadata": {
        "id": "JxPL5RtGFICJ"
      },
      "execution_count": 93,
      "outputs": []
    },
    {
      "cell_type": "code",
      "source": [],
      "metadata": {
        "id": "pV6QipuFFIFq"
      },
      "execution_count": 93,
      "outputs": []
    }
  ]
}